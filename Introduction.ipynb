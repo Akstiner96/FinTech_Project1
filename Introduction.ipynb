{
 "cells": [
  {
   "cell_type": "markdown",
   "metadata": {},
   "source": [
    "# TopTick"
   ]
  },
  {
   "cell_type": "markdown",
   "metadata": {},
   "source": [
    "## Welcome to TopTick! Your dashboard for daily discovery of tradable equities "
   ]
  },
  {
   "cell_type": "markdown",
   "metadata": {},
   "source": [
    "## About TopTick:"
   ]
  },
  {
   "cell_type": "markdown",
   "metadata": {},
   "source": [
    "TopTick is a comprehensive guide for investors of all kinds. We scrape the market for the best relatively unknown equities that are primed for steady and safe growth.\n",
    "If you're a beginner investor without the capital to purchase the likes of GOOG or AMZN, an experienced trader that wants to diversify your portfolio, or anything in between, TopTick is the dashboard for you."
   ]
  },
  {
   "cell_type": "markdown",
   "metadata": {},
   "source": [
    "## What you will find on TopTick"
   ]
  },
  {
   "cell_type": "markdown",
   "metadata": {},
   "source": [
    "Our goal in creating this dashboard, is to aid in the discovery of solid stocks that many investors may have not heard of. To fulfill this goal, no stock that appears here will have a market cap larger than $25 billion. Similarly, our focus is specifically on solid companies, therefore, no ETF's or trusts will be included.\n",
    "\n",
    "Our daily top 5 buy's are stocks that meet all of our criteria for a good, investable asset.\n",
    "\n",
    "Our top 5 sell's are stocks that don't come close to fulfilling our standards, and in fact, are the opposite. Stay away...or purchase some puts.\n",
    "\n",
    "Monte Carlo simulator. Based on our analysis of our top 5 buy's, our Monte Carlo simulation will give investors an even deeper look into the potential future earnings of a portfolio with our picks in them, weighted as you so choose."
   ]
  },
  {
   "cell_type": "markdown",
   "metadata": {},
   "source": [
    "## How we analyze our picks: the core metrics behind our discovery of safe assets"
   ]
  },
  {
   "cell_type": "markdown",
   "metadata": {},
   "source": [
    "#### Daily Percent Change"
   ]
  },
  {
   "cell_type": "markdown",
   "metadata": {},
   "source": [
    "Daily percentage change, the calculation of how much return a certain asset sees over the last trading day, is a building block for many more complex metrics, but is important in its own right. "
   ]
  },
  {
   "cell_type": "markdown",
   "metadata": {},
   "source": [
    "#### Standard Deviation"
   ]
  },
  {
   "cell_type": "markdown",
   "metadata": {},
   "source": [
    "The standard deviation of an equity is on way to measure how volitile that asset is. By tracking how often the equity exceeds its typical price bounds, you can tell whether or not that asset is likely to follow its current trend or see large fluctuations on any given day."
   ]
  },
  {
   "cell_type": "markdown",
   "metadata": {},
   "source": [
    "#### Beta"
   ]
  },
  {
   "cell_type": "markdown",
   "metadata": {},
   "source": [
    "For this tool, we will measure the beta against the S&P 500. An equities beta shows the volatility measured against the market as a whole. In this case. a beta close to one is a stock that, on average, will see gains when the S&P 500 see's gains, and vice versa."
   ]
  },
  {
   "cell_type": "markdown",
   "metadata": {},
   "source": [
    "#### Price-Earnings (PE) Ratio"
   ]
  },
  {
   "cell_type": "markdown",
   "metadata": {},
   "source": [
    "The most commonly used statistic to measure if an equity is undervalues or over-inflated. No dive into the analytics of a company is complete without taking a look at its price-earnings ratio."
   ]
  },
  {
   "cell_type": "markdown",
   "metadata": {},
   "source": [
    "#### Price-to-Sales"
   ]
  },
  {
   "cell_type": "markdown",
   "metadata": {},
   "source": [
    "Since we are dealing with companies under a certain market-cap, earnings may not tell the full story. Price-to-sales measures a companies value on the basis of its actual sales rather than revenue. This allows us to find companies who may be new but are poised for large growth."
   ]
  },
  {
   "cell_type": "markdown",
   "metadata": {},
   "source": [
    "---"
   ]
  },
  {
   "cell_type": "markdown",
   "metadata": {},
   "source": [
    "### Disclaimer"
   ]
  },
  {
   "cell_type": "markdown",
   "metadata": {},
   "source": [
    "Because whats an investing site without a liability disclaimer?"
   ]
  },
  {
   "cell_type": "markdown",
   "metadata": {},
   "source": [
    "The market can be unpredicatable, potential investors should always do independent research before purchasing an investment. TopTick is not a guarantee that a stock will make you money or perform in the way we predicted, it is only a guide that contains potentially useful information. Please use caution when investing, and never spend money that you cannot afford to lose.\n",
    "\n",
    "For the inexperienced investor, always consult a trained and certified financial advisor."
   ]
  },
  {
   "cell_type": "code",
   "execution_count": null,
   "metadata": {},
   "outputs": [],
   "source": []
  }
 ],
 "metadata": {
  "kernelspec": {
   "display_name": "Python 3",
   "language": "python",
   "name": "python3"
  },
  "language_info": {
   "codemirror_mode": {
    "name": "ipython",
    "version": 3
   },
   "file_extension": ".py",
   "mimetype": "text/x-python",
   "name": "python",
   "nbconvert_exporter": "python",
   "pygments_lexer": "ipython3",
   "version": "3.7.6"
  }
 },
 "nbformat": 4,
 "nbformat_minor": 4
}
